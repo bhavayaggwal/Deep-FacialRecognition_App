{
 "cells": [
  {
   "cell_type": "markdown",
   "id": "51dba91d",
   "metadata": {},
   "source": [
    "# 1. Setup\n",
    "\n",
    "1.1 Install Dependencies\n",
    "1.2 Import Dependencies\n",
    "1.3 Set GPU Growth\n",
    "1.4 Create Folder Structures"
   ]
  },
  {
   "cell_type": "code",
   "execution_count": 1,
   "id": "49968c13",
   "metadata": {},
   "outputs": [
    {
     "name": "stdout",
     "output_type": "stream",
     "text": [
      "Requirement already satisfied: tensorflow in c:\\python\\python310\\lib\\site-packages (2.13.0)"
     ]
    },
    {
     "name": "stderr",
     "output_type": "stream",
     "text": [
      "ERROR: pip's dependency resolver does not currently take into account all the packages that are installed. This behaviour is the source of the following dependency conflicts.\n",
      "fastapi 0.99.1 requires pydantic!=1.8,!=1.8.1,<2.0.0,>=1.7.4, but you have pydantic 1.7.3 which is incompatible.\n",
      "gradio 3.42.0 requires pydantic!=1.8,!=1.8.1,!=2.0.0,!=2.0.1,<3.0.0,>=1.7.4, but you have pydantic 1.7.3 which is incompatible.\n",
      "langchain 0.0.148 requires aiohttp<4.0.0,>=3.8.3, but you have aiohttp 3.8.1 which is incompatible.\n",
      "langchain 0.0.148 requires SQLAlchemy<2,>=1, but you have sqlalchemy 2.0.23 which is incompatible.\n",
      "prisma 0.10.0 requires pydantic<3,>=1.8.0, but you have pydantic 1.7.3 which is incompatible.\n",
      "pydantic-core 2.6.3 requires typing-extensions!=4.7.0,>=4.6.0, but you have typing-extensions 4.5.0 which is incompatible.\n"
     ]
    },
    {
     "name": "stdout",
     "output_type": "stream",
     "text": [
      "\n",
      "Requirement already satisfied: opencv-python in c:\\python\\python310\\lib\\site-packages (4.7.0.68)\n",
      "Requirement already satisfied: matplotlib in c:\\python\\python310\\lib\\site-packages (3.6.2)\n",
      "Requirement already satisfied: tensorflow-intel==2.13.0 in c:\\python\\python310\\lib\\site-packages (from tensorflow) (2.13.0)\n",
      "Requirement already satisfied: absl-py>=1.0.0 in c:\\python\\python310\\lib\\site-packages (from tensorflow-intel==2.13.0->tensorflow) (1.4.0)\n",
      "Requirement already satisfied: astunparse>=1.6.0 in c:\\python\\python310\\lib\\site-packages (from tensorflow-intel==2.13.0->tensorflow) (1.6.3)\n",
      "Requirement already satisfied: flatbuffers>=23.1.21 in c:\\python\\python310\\lib\\site-packages (from tensorflow-intel==2.13.0->tensorflow) (23.5.26)\n",
      "Requirement already satisfied: gast<=0.4.0,>=0.2.1 in c:\\python\\python310\\lib\\site-packages (from tensorflow-intel==2.13.0->tensorflow) (0.4.0)\n",
      "Requirement already satisfied: google-pasta>=0.1.1 in c:\\python\\python310\\lib\\site-packages (from tensorflow-intel==2.13.0->tensorflow) (0.2.0)\n",
      "Requirement already satisfied: h5py>=2.9.0 in c:\\python\\python310\\lib\\site-packages (from tensorflow-intel==2.13.0->tensorflow) (3.9.0)\n",
      "Requirement already satisfied: libclang>=13.0.0 in c:\\python\\python310\\lib\\site-packages (from tensorflow-intel==2.13.0->tensorflow) (16.0.6)\n",
      "Collecting numpy<=1.24.3,>=1.22 (from tensorflow-intel==2.13.0->tensorflow)\n",
      "  Downloading numpy-1.24.3-cp310-cp310-win_amd64.whl.metadata (5.6 kB)\n",
      "Requirement already satisfied: opt-einsum>=2.3.2 in c:\\python\\python310\\lib\\site-packages (from tensorflow-intel==2.13.0->tensorflow) (3.3.0)\n",
      "Requirement already satisfied: packaging in c:\\users\\administrator\\appdata\\roaming\\python\\python310\\site-packages (from tensorflow-intel==2.13.0->tensorflow) (24.0)\n",
      "Requirement already satisfied: protobuf!=4.21.0,!=4.21.1,!=4.21.2,!=4.21.3,!=4.21.4,!=4.21.5,<5.0.0dev,>=3.20.3 in c:\\python\\python310\\lib\\site-packages (from tensorflow-intel==2.13.0->tensorflow) (3.20.3)\n",
      "Requirement already satisfied: setuptools in c:\\python\\python310\\lib\\site-packages (from tensorflow-intel==2.13.0->tensorflow) (70.0.0)\n",
      "Requirement already satisfied: six>=1.12.0 in c:\\users\\administrator\\appdata\\roaming\\python\\python310\\site-packages (from tensorflow-intel==2.13.0->tensorflow) (1.16.0)\n",
      "Requirement already satisfied: termcolor>=1.1.0 in c:\\python\\python310\\lib\\site-packages (from tensorflow-intel==2.13.0->tensorflow) (2.2.0)\n",
      "Collecting typing-extensions<4.6.0,>=3.6.6 (from tensorflow-intel==2.13.0->tensorflow)\n",
      "  Downloading typing_extensions-4.5.0-py3-none-any.whl.metadata (8.5 kB)\n",
      "Requirement already satisfied: wrapt>=1.11.0 in c:\\python\\python310\\lib\\site-packages (from tensorflow-intel==2.13.0->tensorflow) (1.15.0)\n",
      "Requirement already satisfied: grpcio<2.0,>=1.24.3 in c:\\python\\python310\\lib\\site-packages (from tensorflow-intel==2.13.0->tensorflow) (1.57.0)\n",
      "Requirement already satisfied: tensorboard<2.14,>=2.13 in c:\\python\\python310\\lib\\site-packages (from tensorflow-intel==2.13.0->tensorflow) (2.13.0)\n",
      "Requirement already satisfied: tensorflow-estimator<2.14,>=2.13.0 in c:\\python\\python310\\lib\\site-packages (from tensorflow-intel==2.13.0->tensorflow) (2.13.0)\n",
      "Requirement already satisfied: keras<2.14,>=2.13.1 in c:\\python\\python310\\lib\\site-packages (from tensorflow-intel==2.13.0->tensorflow) (2.13.1)\n",
      "Requirement already satisfied: tensorflow-io-gcs-filesystem>=0.23.1 in c:\\python\\python310\\lib\\site-packages (from tensorflow-intel==2.13.0->tensorflow) (0.31.0)\n",
      "Requirement already satisfied: contourpy>=1.0.1 in c:\\python\\python310\\lib\\site-packages (from matplotlib) (1.0.6)\n",
      "Requirement already satisfied: cycler>=0.10 in c:\\python\\python310\\lib\\site-packages (from matplotlib) (0.11.0)\n",
      "Requirement already satisfied: fonttools>=4.22.0 in c:\\python\\python310\\lib\\site-packages (from matplotlib) (4.38.0)\n",
      "Requirement already satisfied: kiwisolver>=1.0.1 in c:\\python\\python310\\lib\\site-packages (from matplotlib) (1.4.4)\n",
      "Requirement already satisfied: pillow>=6.2.0 in c:\\python\\python310\\lib\\site-packages (from matplotlib) (10.3.0)\n",
      "Requirement already satisfied: pyparsing>=2.2.1 in c:\\python\\python310\\lib\\site-packages (from matplotlib) (3.0.9)\n",
      "Requirement already satisfied: python-dateutil>=2.7 in c:\\users\\administrator\\appdata\\roaming\\python\\python310\\site-packages (from matplotlib) (2.9.0.post0)\n",
      "Requirement already satisfied: wheel<1.0,>=0.23.0 in c:\\python\\python310\\lib\\site-packages (from astunparse>=1.6.0->tensorflow-intel==2.13.0->tensorflow) (0.41.1)\n",
      "Requirement already satisfied: google-auth<3,>=1.6.3 in c:\\python\\python310\\lib\\site-packages (from tensorboard<2.14,>=2.13->tensorflow-intel==2.13.0->tensorflow) (2.22.0)\n",
      "Requirement already satisfied: google-auth-oauthlib<1.1,>=0.5 in c:\\python\\python310\\lib\\site-packages (from tensorboard<2.14,>=2.13->tensorflow-intel==2.13.0->tensorflow) (1.0.0)\n",
      "Requirement already satisfied: markdown>=2.6.8 in c:\\python\\python310\\lib\\site-packages (from tensorboard<2.14,>=2.13->tensorflow-intel==2.13.0->tensorflow) (3.4.4)\n",
      "Requirement already satisfied: requests<3,>=2.21.0 in c:\\python\\python310\\lib\\site-packages (from tensorboard<2.14,>=2.13->tensorflow-intel==2.13.0->tensorflow) (2.32.3)\n",
      "Requirement already satisfied: tensorboard-data-server<0.8.0,>=0.7.0 in c:\\python\\python310\\lib\\site-packages (from tensorboard<2.14,>=2.13->tensorflow-intel==2.13.0->tensorflow) (0.7.1)\n",
      "Requirement already satisfied: werkzeug>=1.0.1 in c:\\python\\python310\\lib\\site-packages (from tensorboard<2.14,>=2.13->tensorflow-intel==2.13.0->tensorflow) (3.0.1)\n",
      "Requirement already satisfied: cachetools<6.0,>=2.0.0 in c:\\python\\python310\\lib\\site-packages (from google-auth<3,>=1.6.3->tensorboard<2.14,>=2.13->tensorflow-intel==2.13.0->tensorflow) (5.3.1)\n",
      "Requirement already satisfied: pyasn1-modules>=0.2.1 in c:\\python\\python310\\lib\\site-packages (from google-auth<3,>=1.6.3->tensorboard<2.14,>=2.13->tensorflow-intel==2.13.0->tensorflow) (0.3.0)\n",
      "Requirement already satisfied: rsa<5,>=3.1.4 in c:\\python\\python310\\lib\\site-packages (from google-auth<3,>=1.6.3->tensorboard<2.14,>=2.13->tensorflow-intel==2.13.0->tensorflow) (4.9)\n",
      "Requirement already satisfied: urllib3<2.0 in c:\\python\\python310\\lib\\site-packages (from google-auth<3,>=1.6.3->tensorboard<2.14,>=2.13->tensorflow-intel==2.13.0->tensorflow) (1.26.12)\n",
      "Requirement already satisfied: requests-oauthlib>=0.7.0 in c:\\python\\python310\\lib\\site-packages (from google-auth-oauthlib<1.1,>=0.5->tensorboard<2.14,>=2.13->tensorflow-intel==2.13.0->tensorflow) (1.3.1)\n",
      "Requirement already satisfied: charset-normalizer<4,>=2 in c:\\python\\python310\\lib\\site-packages (from requests<3,>=2.21.0->tensorboard<2.14,>=2.13->tensorflow-intel==2.13.0->tensorflow) (2.1.1)\n",
      "Requirement already satisfied: idna<4,>=2.5 in c:\\python\\python310\\lib\\site-packages (from requests<3,>=2.21.0->tensorboard<2.14,>=2.13->tensorflow-intel==2.13.0->tensorflow) (3.4)\n",
      "Requirement already satisfied: certifi>=2017.4.17 in c:\\python\\python310\\lib\\site-packages (from requests<3,>=2.21.0->tensorboard<2.14,>=2.13->tensorflow-intel==2.13.0->tensorflow) (2022.9.24)\n",
      "Requirement already satisfied: MarkupSafe>=2.1.1 in c:\\python\\python310\\lib\\site-packages (from werkzeug>=1.0.1->tensorboard<2.14,>=2.13->tensorflow-intel==2.13.0->tensorflow) (2.1.3)\n",
      "Requirement already satisfied: pyasn1<0.6.0,>=0.4.6 in c:\\python\\python310\\lib\\site-packages (from pyasn1-modules>=0.2.1->google-auth<3,>=1.6.3->tensorboard<2.14,>=2.13->tensorflow-intel==2.13.0->tensorflow) (0.5.0)\n",
      "Requirement already satisfied: oauthlib>=3.0.0 in c:\\python\\python310\\lib\\site-packages (from requests-oauthlib>=0.7.0->google-auth-oauthlib<1.1,>=0.5->tensorboard<2.14,>=2.13->tensorflow-intel==2.13.0->tensorflow) (3.2.2)\n",
      "Downloading numpy-1.24.3-cp310-cp310-win_amd64.whl (14.8 MB)\n",
      "   ---------------------------------------- 0.0/14.8 MB ? eta -:--:--\n",
      "   - -------------------------------------- 0.5/14.8 MB 9.4 MB/s eta 0:00:02\n",
      "   -- ------------------------------------- 0.8/14.8 MB 8.3 MB/s eta 0:00:02\n",
      "   -- ------------------------------------- 1.0/14.8 MB 7.0 MB/s eta 0:00:02\n",
      "   --- ------------------------------------ 1.2/14.8 MB 6.3 MB/s eta 0:00:03\n",
      "   --- ------------------------------------ 1.2/14.8 MB 6.3 MB/s eta 0:00:03\n",
      "   --- ------------------------------------ 1.2/14.8 MB 6.3 MB/s eta 0:00:03\n",
      "   ---- ----------------------------------- 1.8/14.8 MB 5.3 MB/s eta 0:00:03\n",
      "   ----- ---------------------------------- 2.0/14.8 MB 4.8 MB/s eta 0:00:03\n",
      "   ----- ---------------------------------- 2.2/14.8 MB 4.8 MB/s eta 0:00:03\n",
      "   ------ --------------------------------- 2.3/14.8 MB 4.9 MB/s eta 0:00:03\n",
      "   ------ --------------------------------- 2.3/14.8 MB 4.9 MB/s eta 0:00:03\n",
      "   ------ --------------------------------- 2.4/14.8 MB 4.0 MB/s eta 0:00:04\n",
      "   ------- -------------------------------- 2.7/14.8 MB 4.4 MB/s eta 0:00:03\n",
      "   -------- ------------------------------- 3.1/14.8 MB 4.5 MB/s eta 0:00:03\n",
      "   -------- ------------------------------- 3.3/14.8 MB 4.5 MB/s eta 0:00:03\n",
      "   --------- ------------------------------ 3.5/14.8 MB 4.5 MB/s eta 0:00:03\n",
      "   ---------- ----------------------------- 3.7/14.8 MB 4.5 MB/s eta 0:00:03\n",
      "   ---------- ----------------------------- 3.9/14.8 MB 4.5 MB/s eta 0:00:03\n",
      "   ----------- ---------------------------- 4.1/14.8 MB 4.3 MB/s eta 0:00:03\n",
      "   ----------- ---------------------------- 4.3/14.8 MB 4.3 MB/s eta 0:00:03\n",
      "   ------------ --------------------------- 4.5/14.8 MB 4.3 MB/s eta 0:00:03\n",
      "   ------------ --------------------------- 4.7/14.8 MB 4.3 MB/s eta 0:00:03\n",
      "   ------------- -------------------------- 4.9/14.8 MB 4.3 MB/s eta 0:00:03\n",
      "   ------------- -------------------------- 5.1/14.8 MB 4.3 MB/s eta 0:00:03\n",
      "   -------------- ------------------------- 5.2/14.8 MB 4.2 MB/s eta 0:00:03\n",
      "   -------------- ------------------------- 5.4/14.8 MB 4.2 MB/s eta 0:00:03\n",
      "   --------------- ------------------------ 5.6/14.8 MB 4.2 MB/s eta 0:00:03\n",
      "   --------------- ------------------------ 5.8/14.8 MB 4.2 MB/s eta 0:00:03\n",
      "   ---------------- ----------------------- 6.0/14.8 MB 4.2 MB/s eta 0:00:03\n",
      "   ---------------- ----------------------- 6.2/14.8 MB 4.2 MB/s eta 0:00:03\n",
      "   ----------------- ---------------------- 6.4/14.8 MB 4.2 MB/s eta 0:00:03\n",
      "   ----------------- ---------------------- 6.6/14.8 MB 4.2 MB/s eta 0:00:02\n",
      "   ------------------ --------------------- 6.8/14.8 MB 4.2 MB/s eta 0:00:02\n",
      "   ------------------ --------------------- 7.0/14.8 MB 4.2 MB/s eta 0:00:02\n",
      "   ------------------- -------------------- 7.2/14.8 MB 4.1 MB/s eta 0:00:02\n",
      "   ------------------- -------------------- 7.4/14.8 MB 4.1 MB/s eta 0:00:02\n",
      "   -------------------- ------------------- 7.6/14.8 MB 4.1 MB/s eta 0:00:02\n",
      "   --------------------- ------------------ 7.8/14.8 MB 4.1 MB/s eta 0:00:02\n",
      "   --------------------- ------------------ 8.0/14.8 MB 4.1 MB/s eta 0:00:02\n",
      "   ---------------------- ----------------- 8.2/14.8 MB 4.1 MB/s eta 0:00:02\n",
      "   ---------------------- ----------------- 8.4/14.8 MB 4.1 MB/s eta 0:00:02\n",
      "   ----------------------- ---------------- 8.6/14.8 MB 4.1 MB/s eta 0:00:02\n",
      "   ----------------------- ---------------- 8.8/14.8 MB 4.1 MB/s eta 0:00:02\n",
      "   ------------------------ --------------- 9.0/14.8 MB 4.1 MB/s eta 0:00:02\n",
      "   ------------------------ --------------- 9.2/14.8 MB 4.1 MB/s eta 0:00:02\n",
      "   ------------------------- -------------- 9.4/14.8 MB 4.1 MB/s eta 0:00:02\n",
      "   ------------------------- -------------- 9.5/14.8 MB 4.1 MB/s eta 0:00:02\n",
      "   -------------------------- ------------- 9.7/14.8 MB 4.1 MB/s eta 0:00:02\n",
      "   -------------------------- ------------- 9.9/14.8 MB 4.1 MB/s eta 0:00:02\n",
      "   --------------------------- ------------ 10.1/14.8 MB 4.1 MB/s eta 0:00:02\n",
      "   --------------------------- ------------ 10.3/14.8 MB 4.0 MB/s eta 0:00:02\n",
      "   ---------------------------- ----------- 10.5/14.8 MB 4.0 MB/s eta 0:00:02\n",
      "   ---------------------------- ----------- 10.7/14.8 MB 3.9 MB/s eta 0:00:02\n",
      "   ----------------------------- ---------- 10.9/14.8 MB 3.9 MB/s eta 0:00:02\n",
      "   ----------------------------- ---------- 11.1/14.8 MB 3.9 MB/s eta 0:00:01\n",
      "   ------------------------------ --------- 11.3/14.8 MB 3.9 MB/s eta 0:00:01\n",
      "   ------------------------------ --------- 11.5/14.8 MB 4.1 MB/s eta 0:00:01\n",
      "   ------------------------------- -------- 11.6/14.8 MB 4.0 MB/s eta 0:00:01\n",
      "   ------------------------------- -------- 11.8/14.8 MB 3.9 MB/s eta 0:00:01\n",
      "   -------------------------------- ------- 12.0/14.8 MB 3.9 MB/s eta 0:00:01\n",
      "   -------------------------------- ------- 12.2/14.8 MB 3.9 MB/s eta 0:00:01\n",
      "   --------------------------------- ------ 12.4/14.8 MB 3.9 MB/s eta 0:00:01\n",
      "   --------------------------------- ------ 12.5/14.8 MB 3.9 MB/s eta 0:00:01\n",
      "   ---------------------------------- ----- 12.7/14.8 MB 4.0 MB/s eta 0:00:01\n",
      "   ---------------------------------- ----- 12.9/14.8 MB 3.9 MB/s eta 0:00:01\n",
      "   ----------------------------------- ---- 13.1/14.8 MB 3.9 MB/s eta 0:00:01\n",
      "   ----------------------------------- ---- 13.3/14.8 MB 3.9 MB/s eta 0:00:01\n",
      "   ------------------------------------ --- 13.4/14.8 MB 3.9 MB/s eta 0:00:01\n",
      "   ------------------------------------ --- 13.6/14.8 MB 3.9 MB/s eta 0:00:01\n",
      "   ------------------------------------- -- 13.8/14.8 MB 3.9 MB/s eta 0:00:01\n",
      "   ------------------------------------- -- 14.0/14.8 MB 3.9 MB/s eta 0:00:01\n",
      "   -------------------------------------- - 14.2/14.8 MB 3.9 MB/s eta 0:00:01\n",
      "   -------------------------------------- - 14.3/14.8 MB 3.9 MB/s eta 0:00:01\n",
      "   ---------------------------------------  14.5/14.8 MB 3.9 MB/s eta 0:00:01\n",
      "   ---------------------------------------  14.7/14.8 MB 3.9 MB/s eta 0:00:01\n",
      "   ---------------------------------------  14.8/14.8 MB 3.9 MB/s eta 0:00:01\n",
      "   ---------------------------------------- 14.8/14.8 MB 3.8 MB/s eta 0:00:00\n",
      "Downloading typing_extensions-4.5.0-py3-none-any.whl (27 kB)\n",
      "Installing collected packages: typing-extensions, numpy\n",
      "  Attempting uninstall: typing-extensions\n",
      "    Found existing installation: typing_extensions 4.11.0\n",
      "    Uninstalling typing_extensions-4.11.0:\n",
      "      Successfully uninstalled typing_extensions-4.11.0\n",
      "  Attempting uninstall: numpy\n",
      "    Found existing installation: numpy 1.26.4\n",
      "    Uninstalling numpy-1.26.4:\n",
      "      Successfully uninstalled numpy-1.26.4\n",
      "Successfully installed numpy-1.24.3 typing-extensions-4.5.0\n"
     ]
    }
   ],
   "source": [
    "!pip install tensorflow opencv-python matplotlib"
   ]
  },
  {
   "cell_type": "code",
   "execution_count": 2,
   "id": "cf692ba4",
   "metadata": {},
   "outputs": [],
   "source": [
    "#import Standard Dependencies\n",
    "import cv2\n",
    "import os\n",
    "import random \n",
    "import numpy as np\n",
    "from matplotlib import pyplot as plt"
   ]
  },
  {
   "cell_type": "code",
   "execution_count": 3,
   "id": "4709f5b9",
   "metadata": {},
   "outputs": [],
   "source": [
    "#import tensorflow dependencies - Functional API\n",
    "import tensorflow as tf\n",
    "from tensorflow.keras.models import Model\n",
    "from tensorflow.keras.layers import Layer, Conv2D, Dense, MaxPooling2D, Input, Flatten"
   ]
  },
  {
   "cell_type": "code",
   "execution_count": 4,
   "id": "46b80df2",
   "metadata": {},
   "outputs": [],
   "source": [
    "#1.4 create folder structures\n",
    "#setup path\n",
    "POS_PATH = os.path.join('data', 'positive')\n",
    "NEG_PATH = os.path.join('data', 'negative')\n",
    "ANC_PATH = os.path.join('data', 'anchor')"
   ]
  },
  {
   "cell_type": "code",
   "execution_count": 5,
   "id": "592eba10",
   "metadata": {},
   "outputs": [
    {
     "ename": "FileExistsError",
     "evalue": "[WinError 183] Cannot create a file when that file already exists: 'data\\\\positive'",
     "output_type": "error",
     "traceback": [
      "\u001b[1;31m---------------------------------------------------------------------------\u001b[0m",
      "\u001b[1;31mFileExistsError\u001b[0m                           Traceback (most recent call last)",
      "Cell \u001b[1;32mIn[5], line 2\u001b[0m\n\u001b[0;32m      1\u001b[0m \u001b[38;5;66;03m#create the Directories\u001b[39;00m\n\u001b[1;32m----> 2\u001b[0m os\u001b[38;5;241m.\u001b[39mmakedirs(POS_PATH)\n\u001b[0;32m      3\u001b[0m os\u001b[38;5;241m.\u001b[39mmakedirs(NEG_PATH)\n\u001b[0;32m      4\u001b[0m os\u001b[38;5;241m.\u001b[39mmakedirs(ANC_PATH)\n",
      "File \u001b[1;32m<frozen os>:225\u001b[0m, in \u001b[0;36mmakedirs\u001b[1;34m(name, mode, exist_ok)\u001b[0m\n",
      "\u001b[1;31mFileExistsError\u001b[0m: [WinError 183] Cannot create a file when that file already exists: 'data\\\\positive'"
     ]
    }
   ],
   "source": [
    "#create the Directories\n",
    "os.makedirs(POS_PATH)\n",
    "os.makedirs(NEG_PATH)\n",
    "os.makedirs(ANC_PATH) "
   ]
  },
  {
   "cell_type": "markdown",
   "id": "fd61a9e3",
   "metadata": {},
   "source": [
    "# 2. Collect Positives and Anchors\n",
    "2.1 Untar Labelled Faces in the Wild Dataset\n",
    "2.2 Collect Positive and Anchor Classes"
   ]
  },
  {
   "cell_type": "code",
   "execution_count": 6,
   "id": "67d5b46f",
   "metadata": {},
   "outputs": [],
   "source": [
    "# http://vis.cs.umass.edu/lfw/"
   ]
  },
  {
   "cell_type": "code",
   "execution_count": null,
   "id": "ba44aab6",
   "metadata": {},
   "outputs": [],
   "source": [
    "#uncompress Tar GZ Labelled Faces in the Wild Dataset\n",
    "!tar -xf lfw-funneled.tgz"
   ]
  },
  {
   "cell_type": "code",
   "execution_count": 7,
   "id": "d09917bf",
   "metadata": {},
   "outputs": [],
   "source": [
    "#Move LFW Images to the following repository data/negative\n",
    "for directory in os.listdir('lfw_funneled'):\n",
    "    for file in os.listdir(os.path.join('lfw_funneled', directory)):\n",
    "        EX_PATH = os.path.join('lfw_funneled', directory, file)\n",
    "        NEW_PATH = os.path.join(NEG_PATH, file)\n",
    "        os.replace(EX_PATH, NEW_PATH)"
   ]
  },
  {
   "cell_type": "code",
   "execution_count": 8,
   "id": "61882024",
   "metadata": {},
   "outputs": [],
   "source": [
    "#2.2 Collect Positive and Anchor Classes\n",
    "cap = cv2.VideoCapture(3)\n",
    "while cap.isOpened():\n",
    "    ret, frame = cap.read()\n",
    "    \n",
    "    cv2.imshow('Image Collection', frame)\n",
    "    \n",
    "    if cv2.waitkey(1) & 0XFF == ord('q'):\n",
    "        break\n",
    "cap.release()\n",
    "cv2.destroyAllWindows()"
   ]
  },
  {
   "cell_type": "code",
   "execution_count": null,
   "id": "088f3468",
   "metadata": {},
   "outputs": [],
   "source": []
  },
  {
   "cell_type": "markdown",
   "id": "0c5cd663",
   "metadata": {},
   "source": [
    "# 3.Load and Preprocess Images"
   ]
  }
 ],
 "metadata": {
  "kernelspec": {
   "display_name": "Python 3 (ipykernel)",
   "language": "python",
   "name": "python3"
  },
  "language_info": {
   "codemirror_mode": {
    "name": "ipython",
    "version": 3
   },
   "file_extension": ".py",
   "mimetype": "text/x-python",
   "name": "python",
   "nbconvert_exporter": "python",
   "pygments_lexer": "ipython3",
   "version": "3.10.7"
  }
 },
 "nbformat": 4,
 "nbformat_minor": 5
}
